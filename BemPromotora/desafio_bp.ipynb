{
 "cells": [
  {
   "cell_type": "markdown",
   "id": "ee4797ea-20ae-4883-a999-2d9dfd3ab84e",
   "metadata": {},
   "source": [
    "# Desafio - Estágio\n",
    "Este projeto objetiva tratar, explorar e analizar os dados referentes a viagens realizadas a serviço por servidores públicos. Serão analisados dois triênios (2017-2019) e (2020-2022).\n",
    "Os datasets foram extraídos do seguinte site: https://portaldatransparencia.gov.br/download-de-dados/viagens  "
   ]
  },
  {
   "cell_type": "markdown",
   "id": "8e13b0d1-41e1-4c3d-af85-9ec29bf42075",
   "metadata": {},
   "source": [
    "## Bibliotecas necessárias"
   ]
  },
  {
   "cell_type": "code",
   "execution_count": 174,
   "id": "cdcb2faf-1248-4071-b0bf-07e29080f272",
   "metadata": {},
   "outputs": [],
   "source": [
    "import pandas as pd\n",
    "import numpy as np\n",
    "import matplotlib.pyplot as plt\n",
    "import seaborn as sns"
   ]
  },
  {
   "cell_type": "markdown",
   "id": "cac4ac5e-db14-4245-9130-23e4c2392340",
   "metadata": {},
   "source": [
    "## Importação dos datasets\n",
    "No site do Portal da Transparência os arquivos estão organizados por exercício (ano). Para cada exercício há quatro planilhas (Pagamento, Passagem, Trecho e Viagem). Como o objetivo deste projeto é fazer a análise de dois triênios, foi feito o download de seis diretórios. Totalizando, assim, 24 arquivos. Abaixo o script de importação e união dos datasets. Por ano é executada a união de quatro datasets em apenas um, totalizando seis planilhas a serem trabalhadas."
   ]
  },
  {
   "cell_type": "code",
   "execution_count": 3,
   "id": "553f6b02-2dbe-4e96-947d-1004d790b799",
   "metadata": {},
   "outputs": [],
   "source": [
    "pagamento = pd.read_csv('datasets/2022/pagamento_2022.csv')\n",
    "passagem = pd.read_csv('datasets/2022/passagem_2022.csv')\n",
    "trecho = pd.read_csv('datasets/2022/trecho_2022.csv')\n",
    "viagem = pd.read_csv('datasets/2022/viagem_2022.csv')\n",
    "\n"
   ]
  },
  {
   "cell_type": "code",
   "execution_count": 4,
   "id": "54f15f42",
   "metadata": {},
   "outputs": [],
   "source": [
    "#é usada a função merge() para fazer a junção do tipo inner join com base na coluna \"Id\", que é comum a todas as tabelas\n",
    "\n",
    "tabela_final = pd.merge(pagamento, passagem, on='Id')\n",
    "tabela_final = pd.merge(tabela_final, trecho, on='Id')\n",
    "tabela_final = pd.merge(tabela_final, viagem, on='Id')\n",
    "\n",
    "#abaixo é apagado registros com valores de Id duplicados\n",
    "tabela_final = tabela_final.drop_duplicates(subset='Id')\n"
   ]
  },
  {
   "cell_type": "code",
   "execution_count": 22,
   "id": "4ec76d51",
   "metadata": {},
   "outputs": [],
   "source": [
    "#o comando abaixo amplia a quantidade máxima de colunas visualizadas\n",
    "pd.set_option('display.max_columns', 50)"
   ]
  },
  {
   "cell_type": "code",
   "execution_count": 56,
   "id": "655c3c01",
   "metadata": {},
   "outputs": [],
   "source": [
    "#exportar dataframe para arquivo .csv\n",
    "#tabela_final.to_csv('datasets/2022/tabela_final22.csv', index=False, encoding='utf-8')"
   ]
  },
  {
   "cell_type": "markdown",
   "id": "8602a06f-6375-4474-b2e2-33371ed176d3",
   "metadata": {},
   "source": [
    "## Dicionário de Dados"
   ]
  },
  {
   "cell_type": "markdown",
   "id": "fe4e80e6",
   "metadata": {},
   "source": [
    "| Coluna | Descrição ||\n",
    "|--- |--- |--- |\n",
    "| Id | Número que identifica o processo de concessão da viagem  |\n",
    "| Cod_org_superior | Código do Órgão Superior que custeou a despesa |\n",
    "| Nome_org_superior | Nome do Órgão Superior |\n",
    "| Cod_org_pagador | Código do Órgão que pagou a despesa  |\n",
    "| Nome_org_pagador | Nome do órgão |\n",
    "| Cod_ug_pagadora | Código da Unidade Gestora que pagou a despesa |\n",
    "| Nome_ug_pagadora | Nome da Unidade Gestora |\n",
    "| Tipo_pagamento | Tipo da despesa paga pelo órgão (diária, passagem, seguro, etc.) |\n",
    "| Valor | Valor da despesa paga |\n",
    "| Meio_transporte | Meio de transporte da passagem |\n",
    "| Pais_origem_ida | País de origem ida |\n",
    "| UF_origem_ida | UF de origem na ida |\n",
    "| Cidade_origem_ida | Cidade de origem na ida |\n",
    "| Pais_destino_ida | País de destino na ida |\n",
    "| UF_destino_ida | UF de destino na ida |\n",
    "| Cidade_destino_ida | Cidade de destino na ida  |\n",
    "| Pais_origem_volta | País de origem na volta |\n",
    "| UF_origem_volta | UF de origem na volta |\n",
    "| Cidade_origem_volta | Cidade de origem na volta |\n",
    "| Pais_destino_volta | País de destino na volta |\n",
    "| UF_destino_volta | UF de destino na volta |\n",
    "| Cidade_destino_volta | Cidade de destino na volta |\n",
    "| Valor_passagem | Valor da passagem |\n",
    "| Taxa_servico | Taxa de serviço da passagem |\n",
    "| Trecho | Sequência do trecho na viagem |\n",
    "| Data_origem | Data de saída da origem |\n",
    "| Pais_origem | País de origem  |\n",
    "| UF_origem | UF de origem  |\n",
    "| Cidade_origem | Cidade de origem  |\n",
    "| Data_destino | Data de chegada no destino  |\n",
    "| Pais_destino | País de destino  |\n",
    "| UF_destino | UF de destino   |\n",
    "| Cidade_destino | Cidade de destino   |\n",
    "| Diárias | Número de diárias do trecho  |\n",
    "| Missão | Houve missão no trecho? ‘Sim’ ou ‘Não’  |\n",
    "| Situação | Situação da viagem: ´não realizada´; ´realizada’  |\n",
    "| Cod_org_solicitante | Código do Órgão que solicitou a viagem  |\n",
    "| Nome_org_solicitante | Nome do Órgão que solicitou a viagem  |\n",
    "| CPF | CPF da pessoa que realizou a viagem   |\n",
    "| Nome | Nome do viajante   |\n",
    "| Cargo | Cargo do viajante   |\n",
    "| Periodo_inicio | Data de início de afastamento do servidor   |\n",
    "| Periodo_fim | Data de fim de afastamento do servidor   |\n",
    "| Valor_diárias | Valor de diárias pagas pelo órgão, se houver   |\n",
    "| Valor_passagens | Valor de passagens pagas pelo órgão, se houver   |\n",
    "| Valor_devolução | Valor devolvido, se houver   |\n",
    "| Valor_outros_gastos | Valor de outros gastos pagos pelo órgão, se houver   |\n",
    "\n",
    "      \n"
   ]
  },
  {
   "cell_type": "markdown",
   "id": "2f95b8dc",
   "metadata": {},
   "source": [
    "Abaixo é feita a importação dos datasets que englobam os dados a serem tratados"
   ]
  },
  {
   "cell_type": "code",
   "execution_count": 32,
   "id": "e62af008",
   "metadata": {},
   "outputs": [],
   "source": [
    "df17 = pd.read_csv('datasets/tabela_final17.csv')\n",
    "df18 = pd.read_csv('datasets/tabela_final18.csv')\n",
    "df19 = pd.read_csv('datasets/tabela_final19.csv')\n",
    "df20 = pd.read_csv('datasets/tabela_final20.csv')\n",
    "df21 = pd.read_csv('datasets/tabela_final21.csv')\n",
    "df22 = pd.read_csv('datasets/tabela_final22.csv')"
   ]
  },
  {
   "cell_type": "markdown",
   "id": "004b90cf",
   "metadata": {},
   "source": [
    "## Tratando os Dados\n"
   ]
  },
  {
   "cell_type": "markdown",
   "id": "51894096",
   "metadata": {},
   "source": [
    "Foi realizada a eliminação de forma manual de alguns atributos dos datasets. Isso se deu por motivos de que tais colunas estavam quase que completamente com valores de \"Sem informação\" e/ou não eram colunas relevantes para a análise presente. Colunas eliminadas: **Pais_origem_volta, UF_origem_volta, Cidade_origem_volta, Pais_destino_volta, UF_destino_volta, Cidade_destino_volta, Cod_org_solicitante, Nome_org_solicitante** e **CPF.**"
   ]
  },
  {
   "cell_type": "markdown",
   "id": "8e3dc5af",
   "metadata": {},
   "source": [
    "### Classe das Variáveis \n",
    "Alguns atributos estão classificados como do tipo object, quando na verdade devem ser do tipo float. São eles: **Valor, Valor_passagem, Taxa_servico, Valor_diárias, Valor_passagens, Valor_devolução** e **Valor_outros_gastos.** \n",
    "Alguns atributos estão classicados como do tipo object, quando devem ser do tipo date. Saõ eles: **Data_origem, Data_destino, Periodo_inicio** e **Periodo_fim.** "
   ]
  },
  {
   "cell_type": "markdown",
   "id": "99555f2b",
   "metadata": {},
   "source": [
    "Como os seis datasets são estruturalmente iguais, foram elaboradas funções para tratar alguns aspectos dos dados.\n",
    "\n",
    "Função para substituir a vírgula pelo ponto e converter uma lista de colunas para float."
   ]
  },
  {
   "cell_type": "code",
   "execution_count": 41,
   "id": "57864aae",
   "metadata": {},
   "outputs": [],
   "source": [
    "#função para remover espaços das colunas tipo object\n",
    "def remover_espacos(dfs):\n",
    "    for df in dfs:\n",
    "        df.columns = df.columns.str.strip()\n",
    "        df = df.apply(lambda x: x.str.strip() if x.dtype == \"object\" else x)\n",
    "\n"
   ]
  },
  {
   "cell_type": "code",
   "execution_count": 42,
   "id": "1f1ecaaa",
   "metadata": {},
   "outputs": [],
   "source": [
    "#lista dos dataframes\n",
    "dfs = [df17, df18, df19, df20, df21, df22]\n",
    "#chamando a função\n",
    "remover_espacos(dfs)"
   ]
  },
  {
   "cell_type": "code",
   "execution_count": 43,
   "id": "0e0c43cd",
   "metadata": {},
   "outputs": [],
   "source": [
    "def mudar_classe(df, colunas):\n",
    "    for coluna in colunas:\n",
    "        df[coluna] = df[coluna].str.replace(',', '.').astype(float)\n",
    "    return df"
   ]
  },
  {
   "cell_type": "code",
   "execution_count": 86,
   "id": "b6d1f9fa",
   "metadata": {},
   "outputs": [],
   "source": [
    "colunas = ['Valor', 'Valor_passagem', 'Taxa_servico', 'Valor_diárias', 'Valor_passagens', 'Valor_devolução', 'Valor_outros_gastos']\n"
   ]
  },
  {
   "cell_type": "code",
   "execution_count": 45,
   "id": "bf709f00",
   "metadata": {},
   "outputs": [],
   "source": [
    "df17 = mudar_classe(df17, colunas)"
   ]
  },
  {
   "cell_type": "code",
   "execution_count": 46,
   "id": "963c9668",
   "metadata": {},
   "outputs": [],
   "source": [
    "df18 = mudar_classe(df18, colunas)"
   ]
  },
  {
   "cell_type": "code",
   "execution_count": null,
   "id": "25302801",
   "metadata": {},
   "outputs": [],
   "source": [
    "df19 = mudar_classe(df19, colunas)"
   ]
  },
  {
   "cell_type": "code",
   "execution_count": 47,
   "id": "8d18d2f6",
   "metadata": {},
   "outputs": [],
   "source": [
    "df20 = mudar_classe(df20, colunas)"
   ]
  },
  {
   "cell_type": "code",
   "execution_count": 48,
   "id": "ff2d1de7",
   "metadata": {},
   "outputs": [],
   "source": [
    "df21 = mudar_classe(df21, colunas)"
   ]
  },
  {
   "cell_type": "code",
   "execution_count": 49,
   "id": "cd5f90f4",
   "metadata": {},
   "outputs": [],
   "source": [
    "df22 = mudar_classe(df22, colunas)"
   ]
  },
  {
   "cell_type": "markdown",
   "id": "75413988",
   "metadata": {},
   "source": [
    "Função para converter uma lista de colunas do tipo object para o tipo date."
   ]
  },
  {
   "cell_type": "code",
   "execution_count": 50,
   "id": "34e21b8c",
   "metadata": {},
   "outputs": [],
   "source": [
    "def converter_date(df, colunas):\n",
    "    for coluna in colunas:\n",
    "        df[coluna] = pd.to_datetime(df[coluna], format='%d/%m/%Y')\n",
    "    return df"
   ]
  },
  {
   "cell_type": "code",
   "execution_count": 51,
   "id": "63be1c6e",
   "metadata": {},
   "outputs": [],
   "source": [
    "#lista de colunas\n",
    "colunas = ['Data_origem', 'Data_destino', 'Periodo_inicio', 'Periodo_fim']\n"
   ]
  },
  {
   "cell_type": "code",
   "execution_count": 52,
   "id": "f2101b88",
   "metadata": {},
   "outputs": [],
   "source": [
    "df17 = converter_date(df17, colunas)"
   ]
  },
  {
   "cell_type": "code",
   "execution_count": 53,
   "id": "4500f7c9",
   "metadata": {},
   "outputs": [],
   "source": [
    "df18 = converter_date(df18, colunas)"
   ]
  },
  {
   "cell_type": "code",
   "execution_count": 54,
   "id": "a28dbd0f",
   "metadata": {},
   "outputs": [],
   "source": [
    "df19 = converter_date(df19, colunas)"
   ]
  },
  {
   "cell_type": "code",
   "execution_count": 55,
   "id": "5f096cf1",
   "metadata": {},
   "outputs": [],
   "source": [
    "df20 = converter_date(df20, colunas)"
   ]
  },
  {
   "cell_type": "code",
   "execution_count": 56,
   "id": "587f94de",
   "metadata": {},
   "outputs": [],
   "source": [
    "df21 = converter_date(df21, colunas)"
   ]
  },
  {
   "cell_type": "code",
   "execution_count": 57,
   "id": "48d55d4d",
   "metadata": {},
   "outputs": [],
   "source": [
    "df22 = converter_date(df22, colunas)"
   ]
  },
  {
   "cell_type": "markdown",
   "id": "30e302b6",
   "metadata": {},
   "source": [
    "Função para substituir na coluna **Tipo_pagamento** os valores \"Serviço correlato: seguro\" para SEGURO."
   ]
  },
  {
   "cell_type": "code",
   "execution_count": 58,
   "id": "14dce16b",
   "metadata": {},
   "outputs": [],
   "source": [
    "def seguro (dfs, coluna):\n",
    "    for df in dfs:\n",
    "        df[coluna] = df[coluna].replace('Serviço correlato: seguro','SEGURO')"
   ]
  },
  {
   "cell_type": "code",
   "execution_count": 59,
   "id": "0244f0aa",
   "metadata": {},
   "outputs": [],
   "source": [
    "#chamando a função\n",
    "seguro(dfs, 'Tipo_pagamento')"
   ]
  },
  {
   "cell_type": "markdown",
   "id": "27005371",
   "metadata": {},
   "source": [
    "Função para renomear a coluna **Situação** para **Realizada** "
   ]
  },
  {
   "cell_type": "code",
   "execution_count": 60,
   "id": "3124a59f",
   "metadata": {},
   "outputs": [],
   "source": [
    "def renomear_coluna(dfs, coluna, novo_nome):\n",
    "    for df in dfs:\n",
    "        df.rename(columns={coluna: novo_nome}, inplace=True)"
   ]
  },
  {
   "cell_type": "code",
   "execution_count": 61,
   "id": "9f95997a",
   "metadata": {},
   "outputs": [],
   "source": [
    "renomear_coluna(dfs, 'Situação', 'Realizada')"
   ]
  },
  {
   "cell_type": "markdown",
   "id": "f73cb370",
   "metadata": {},
   "source": [
    "Função para substituir os valores da coluna **Realizada** de Realizada para Sim, e Não realizada para Não."
   ]
  },
  {
   "cell_type": "code",
   "execution_count": 62,
   "id": "9ec8190f",
   "metadata": {},
   "outputs": [],
   "source": [
    "def substituir(dfs, coluna, dicionario):\n",
    "    for df in dfs:\n",
    "        df[coluna] = df[coluna].replace(dicionario)"
   ]
  },
  {
   "cell_type": "code",
   "execution_count": 63,
   "id": "3262d010",
   "metadata": {},
   "outputs": [],
   "source": [
    "dicionario = {'Realizada':'Sim','Não realizada':'Não'}"
   ]
  },
  {
   "cell_type": "code",
   "execution_count": 64,
   "id": "dc1406f1",
   "metadata": {},
   "outputs": [],
   "source": [
    "#chamando a função\n",
    "substituir(dfs, 'Realizada', dicionario)"
   ]
  },
  {
   "cell_type": "markdown",
   "id": "ebc86f01",
   "metadata": {},
   "source": [
    "### Valores Ausentes"
   ]
  },
  {
   "cell_type": "markdown",
   "id": "4ceb950a",
   "metadata": {},
   "source": [
    "Foi rodado o comando abaixo para descobrir quais colunas contam com valores nulos e em que quantidade. Para os 6 datasets, há sempre e somente 5 colunas que contém valores nulos. São elas: **UF_origem_ida, UF_destino_ida, UF_origem, UF_destino** e **Cargo**. A coluna **Cargo** conta com mais de 50% de seus valores classificados como nulos. Por este motivo, tal atributo não será utilizado na análise.\n",
    "As outras 4 colunas contam com aproximadamente 5% de seus valores classificados como nulos. Quando estes atributos estão em branco é porque se trata de uma viagem com origem ou destino em país estrangeiro."
   ]
  },
  {
   "cell_type": "code",
   "execution_count": null,
   "id": "145296ea",
   "metadata": {},
   "outputs": [],
   "source": [
    "df17.isnull().sum()\n",
    "df18.isnull().sum()\n",
    "df19.isnull().sum()\n",
    "df20.isnull().sum()\n",
    "df21.isnull().sum()\n",
    "df22.isnull().sum()\n"
   ]
  },
  {
   "cell_type": "markdown",
   "id": "916a0fbf",
   "metadata": {},
   "source": [
    "Função para eliminar a coluna **Cargo**"
   ]
  },
  {
   "cell_type": "code",
   "execution_count": 65,
   "id": "76a9405d",
   "metadata": {},
   "outputs": [],
   "source": [
    "def eliminar_cargo(dfs, coluna):\n",
    "    for df in dfs:\n",
    "        df.drop(coluna, axis=1, inplace=True)"
   ]
  },
  {
   "cell_type": "code",
   "execution_count": 66,
   "id": "801aebf3",
   "metadata": {},
   "outputs": [],
   "source": [
    "#chamando a função\n",
    "eliminar_cargo(dfs, 'Cargo')"
   ]
  },
  {
   "cell_type": "markdown",
   "id": "b12dc94b",
   "metadata": {},
   "source": [
    "Função para inserir nas colunas **UF_origem_ida, UF_destino_ida, UF_origem, UF_destino** o valor de \"Internacional\" onde os campos estiverem vazios."
   ]
  },
  {
   "cell_type": "code",
   "execution_count": 67,
   "id": "6e820715",
   "metadata": {},
   "outputs": [],
   "source": [
    "def inserir_valor(dfs, colunas, valor):\n",
    "    for df in dfs:\n",
    "        for coluna in colunas:\n",
    "            df[coluna].fillna(valor, inplace=True)"
   ]
  },
  {
   "cell_type": "code",
   "execution_count": 68,
   "id": "d62f4b33",
   "metadata": {},
   "outputs": [],
   "source": [
    "#lista de colunas\n",
    "colunas = ['UF_origem_ida','UF_destino_ida','UF_origem','UF_destino']\n",
    "#chamando a função\n",
    "inserir_valor(dfs, colunas, 'Internacional')\n"
   ]
  },
  {
   "cell_type": "markdown",
   "id": "aecd0635",
   "metadata": {},
   "source": [
    "Exportação dos dataframes limpos para arquivos .csv"
   ]
  },
  {
   "cell_type": "code",
   "execution_count": 94,
   "id": "9fc06377",
   "metadata": {},
   "outputs": [],
   "source": [
    "df17.to_csv('datasets/tabela_clean17.csv', index=False, encoding='utf-8')\n",
    "df18.to_csv('datasets/tabela_clean18.csv', index=False, encoding='utf-8')\n",
    "df19.to_csv('datasets/tabela_clean19.csv', index=False, encoding='utf-8')\n",
    "df20.to_csv('datasets/tabela_clean20.csv', index=False, encoding='utf-8')\n",
    "df21.to_csv('datasets/tabela_clean21.csv', index=False, encoding='utf-8')\n",
    "df22.to_csv('datasets/tabela_clean22.csv', index=False, encoding='utf-8')"
   ]
  },
  {
   "cell_type": "markdown",
   "id": "98f0670f",
   "metadata": {},
   "source": [
    "## Análise\n",
    "\n",
    "Importação dos datasets tratados"
   ]
  },
  {
   "cell_type": "code",
   "execution_count": 155,
   "id": "ebd2653a",
   "metadata": {},
   "outputs": [],
   "source": [
    "df17_clean = pd.read_csv('datasets/tabela_clean17.csv')\n",
    "df18_clean = pd.read_csv('datasets/tabela_clean18.csv')\n",
    "df19_clean = pd.read_csv('datasets/tabela_clean19.csv')\n",
    "df20_clean = pd.read_csv('datasets/tabela_clean20.csv')\n",
    "df21_clean = pd.read_csv('datasets/tabela_clean21.csv')\n",
    "df22_clean = pd.read_csv('datasets/tabela_clean22.csv')"
   ]
  },
  {
   "cell_type": "markdown",
   "id": "dacf8fcd",
   "metadata": {},
   "source": [
    "Abaixo é determinado o nome do servidor que mais gastou com viagens no triênio (2017-2019)"
   ]
  },
  {
   "cell_type": "code",
   "execution_count": 186,
   "id": "92634888",
   "metadata": {},
   "outputs": [],
   "source": [
    "df1 = pd.DataFrame(df17_clean, columns=['Nome', 'Taxa_servico','Valor_diárias', 'Valor_passagens', 'Valor_outros_gastos'])\n",
    "df2 = pd.DataFrame(df18_clean, columns=['Nome', 'Taxa_servico','Valor_diárias', 'Valor_passagens', 'Valor_outros_gastos'])\n",
    "df3 = pd.DataFrame(df19_clean, columns=['Nome', 'Taxa_servico','Valor_diárias', 'Valor_passagens', 'Valor_outros_gastos'])\n",
    "\n",
    "trienio1 = pd.concat([df1, df2, df3])"
   ]
  },
  {
   "cell_type": "code",
   "execution_count": 117,
   "id": "162e3a95",
   "metadata": {},
   "outputs": [],
   "source": [
    "#calcula o gasto total\n",
    "trienio1['Gasto_total'] = trienio1['Taxa_servico'] + trienio1['Valor_diárias'] + trienio1['Valor_passagens'] + trienio1['Valor_outros_gastos']\n",
    "\n",
    "\n",
    "# Agrupa o dataframe pelo nome da pessoa e calcule a soma dos gastos totais para cada pessoa\n",
    "gastos_por_pessoa = trienio1.groupby('Nome')['Gasto_total'].sum().reset_index()\n",
    "\n",
    "# Ordena o dataframe em ordem decrescente com base nos valores de gasto total\n",
    "gastos_por_pessoa = gastos_por_pessoa.sort_values('Gasto_total', ascending=False)\n",
    "\n",
    "pessoa_maior_gasto = gastos_por_pessoa.iloc[0]['Nome']\n",
    "valor_maior_gasto = gastos_por_pessoa.iloc[0]['Gasto_total']\n",
    "\n"
   ]
  },
  {
   "cell_type": "code",
   "execution_count": 120,
   "id": "e289124e",
   "metadata": {},
   "outputs": [
    {
     "name": "stdout",
     "output_type": "stream",
     "text": [
      "DECIO FABRICIO ODDONE DA COSTA 457018.56\n"
     ]
    }
   ],
   "source": [
    "print(pessoa_maior_gasto, valor_maior_gasto)"
   ]
  },
  {
   "cell_type": "markdown",
   "id": "9c647da9",
   "metadata": {},
   "source": [
    "Conferindo os registros do servidor"
   ]
  },
  {
   "cell_type": "code",
   "execution_count": 187,
   "id": "48f784f5",
   "metadata": {},
   "outputs": [
    {
     "data": {
      "text/html": [
       "<div>\n",
       "<style scoped>\n",
       "    .dataframe tbody tr th:only-of-type {\n",
       "        vertical-align: middle;\n",
       "    }\n",
       "\n",
       "    .dataframe tbody tr th {\n",
       "        vertical-align: top;\n",
       "    }\n",
       "\n",
       "    .dataframe thead th {\n",
       "        text-align: right;\n",
       "    }\n",
       "</style>\n",
       "<table border=\"1\" class=\"dataframe\">\n",
       "  <thead>\n",
       "    <tr style=\"text-align: right;\">\n",
       "      <th></th>\n",
       "      <th>Nome</th>\n",
       "      <th>Taxa_servico</th>\n",
       "      <th>Valor_diárias</th>\n",
       "      <th>Valor_passagens</th>\n",
       "      <th>Valor_outros_gastos</th>\n",
       "    </tr>\n",
       "  </thead>\n",
       "  <tbody>\n",
       "    <tr>\n",
       "      <th>2340</th>\n",
       "      <td>DECIO FABRICIO ODDONE DA COSTA</td>\n",
       "      <td>0.0</td>\n",
       "      <td>537.91</td>\n",
       "      <td>770.39</td>\n",
       "      <td>0.00</td>\n",
       "    </tr>\n",
       "    <tr>\n",
       "      <th>13730</th>\n",
       "      <td>DECIO FABRICIO ODDONE DA COSTA</td>\n",
       "      <td>0.0</td>\n",
       "      <td>568.41</td>\n",
       "      <td>1291.25</td>\n",
       "      <td>0.00</td>\n",
       "    </tr>\n",
       "    <tr>\n",
       "      <th>16016</th>\n",
       "      <td>DECIO FABRICIO ODDONE DA COSTA</td>\n",
       "      <td>0.0</td>\n",
       "      <td>653.73</td>\n",
       "      <td>1381.97</td>\n",
       "      <td>0.00</td>\n",
       "    </tr>\n",
       "    <tr>\n",
       "      <th>21197</th>\n",
       "      <td>DECIO FABRICIO ODDONE DA COSTA</td>\n",
       "      <td>0.0</td>\n",
       "      <td>6478.62</td>\n",
       "      <td>7120.12</td>\n",
       "      <td>71.74</td>\n",
       "    </tr>\n",
       "    <tr>\n",
       "      <th>33810</th>\n",
       "      <td>DECIO FABRICIO ODDONE DA COSTA</td>\n",
       "      <td>0.0</td>\n",
       "      <td>537.91</td>\n",
       "      <td>667.99</td>\n",
       "      <td>0.00</td>\n",
       "    </tr>\n",
       "    <tr>\n",
       "      <th>...</th>\n",
       "      <td>...</td>\n",
       "      <td>...</td>\n",
       "      <td>...</td>\n",
       "      <td>...</td>\n",
       "      <td>...</td>\n",
       "    </tr>\n",
       "    <tr>\n",
       "      <th>108947</th>\n",
       "      <td>DECIO FABRICIO ODDONE DA COSTA</td>\n",
       "      <td>85.0</td>\n",
       "      <td>0.00</td>\n",
       "      <td>722.00</td>\n",
       "      <td>0.00</td>\n",
       "    </tr>\n",
       "    <tr>\n",
       "      <th>113441</th>\n",
       "      <td>DECIO FABRICIO ODDONE DA COSTA</td>\n",
       "      <td>49.0</td>\n",
       "      <td>0.00</td>\n",
       "      <td>2472.00</td>\n",
       "      <td>0.00</td>\n",
       "    </tr>\n",
       "    <tr>\n",
       "      <th>120691</th>\n",
       "      <td>DECIO FABRICIO ODDONE DA COSTA</td>\n",
       "      <td>7.0</td>\n",
       "      <td>0.00</td>\n",
       "      <td>15660.00</td>\n",
       "      <td>0.00</td>\n",
       "    </tr>\n",
       "    <tr>\n",
       "      <th>120692</th>\n",
       "      <td>DECIO FABRICIO ODDONE DA COSTA</td>\n",
       "      <td>3.0</td>\n",
       "      <td>0.00</td>\n",
       "      <td>2826.00</td>\n",
       "      <td>0.00</td>\n",
       "    </tr>\n",
       "    <tr>\n",
       "      <th>124030</th>\n",
       "      <td>DECIO FABRICIO ODDONE DA COSTA</td>\n",
       "      <td>3.0</td>\n",
       "      <td>0.00</td>\n",
       "      <td>2420.00</td>\n",
       "      <td>0.00</td>\n",
       "    </tr>\n",
       "  </tbody>\n",
       "</table>\n",
       "<p>78 rows × 5 columns</p>\n",
       "</div>"
      ],
      "text/plain": [
       "                                  Nome  Taxa_servico  Valor_diárias  \\\n",
       "2340    DECIO FABRICIO ODDONE DA COSTA           0.0         537.91   \n",
       "13730   DECIO FABRICIO ODDONE DA COSTA           0.0         568.41   \n",
       "16016   DECIO FABRICIO ODDONE DA COSTA           0.0         653.73   \n",
       "21197   DECIO FABRICIO ODDONE DA COSTA           0.0        6478.62   \n",
       "33810   DECIO FABRICIO ODDONE DA COSTA           0.0         537.91   \n",
       "...                                ...           ...            ...   \n",
       "108947  DECIO FABRICIO ODDONE DA COSTA          85.0           0.00   \n",
       "113441  DECIO FABRICIO ODDONE DA COSTA          49.0           0.00   \n",
       "120691  DECIO FABRICIO ODDONE DA COSTA           7.0           0.00   \n",
       "120692  DECIO FABRICIO ODDONE DA COSTA           3.0           0.00   \n",
       "124030  DECIO FABRICIO ODDONE DA COSTA           3.0           0.00   \n",
       "\n",
       "        Valor_passagens  Valor_outros_gastos  \n",
       "2340             770.39                 0.00  \n",
       "13730           1291.25                 0.00  \n",
       "16016           1381.97                 0.00  \n",
       "21197           7120.12                71.74  \n",
       "33810            667.99                 0.00  \n",
       "...                 ...                  ...  \n",
       "108947           722.00                 0.00  \n",
       "113441          2472.00                 0.00  \n",
       "120691         15660.00                 0.00  \n",
       "120692          2826.00                 0.00  \n",
       "124030          2420.00                 0.00  \n",
       "\n",
       "[78 rows x 5 columns]"
      ]
     },
     "execution_count": 187,
     "metadata": {},
     "output_type": "execute_result"
    }
   ],
   "source": [
    "nome  = 'DECIO FABRICIO ODDONE DA COSTA'\n",
    "flt = trienio1[trienio1['Nome'] == nome]\n",
    "flt"
   ]
  },
  {
   "cell_type": "markdown",
   "id": "d02ba446",
   "metadata": {},
   "source": [
    "Abaixo é determinado o nome do servidor que mais gastou com viagens no triênio (2020-2022)"
   ]
  },
  {
   "cell_type": "code",
   "execution_count": 128,
   "id": "84e26212",
   "metadata": {},
   "outputs": [],
   "source": [
    "df4 = pd.DataFrame(df20_clean, columns=['Nome', 'Taxa_servico','Valor_diárias', 'Valor_passagens', 'Valor_outros_gastos'])\n",
    "df5 = pd.DataFrame(df21_clean, columns=['Nome', 'Taxa_servico','Valor_diárias', 'Valor_passagens', 'Valor_outros_gastos'])\n",
    "df6 = pd.DataFrame(df22_clean, columns=['Nome', 'Taxa_servico','Valor_diárias', 'Valor_passagens', 'Valor_outros_gastos'])\n",
    "\n",
    "trienio2 = pd.concat([df4, df5, df6])"
   ]
  },
  {
   "cell_type": "code",
   "execution_count": 129,
   "id": "47bb5838",
   "metadata": {},
   "outputs": [],
   "source": [
    "#calcula o gasto total\n",
    "trienio2['Gasto_total'] = trienio2['Taxa_servico'] + trienio2['Valor_diárias'] + trienio2['Valor_passagens'] + trienio2['Valor_outros_gastos']\n",
    "\n",
    "\n",
    "# Agrupa o dataframe pelo nome da pessoa e calcule a soma dos gastos totais para cada pessoa\n",
    "gastos_por_pessoa = trienio2.groupby('Nome')['Gasto_total'].sum().reset_index()\n",
    "\n",
    "# Ordena o dataframe em ordem decrescente com base nos valores de gasto total\n",
    "gastos_por_pessoa = gastos_por_pessoa.sort_values('Gasto_total', ascending=False)\n",
    "\n",
    "pessoa_maior_gasto = gastos_por_pessoa.iloc[0]['Nome']\n",
    "valor_maior_gasto = gastos_por_pessoa.iloc[0]['Gasto_total']"
   ]
  },
  {
   "cell_type": "code",
   "execution_count": 130,
   "id": "009927fa",
   "metadata": {},
   "outputs": [
    {
     "name": "stdout",
     "output_type": "stream",
     "text": [
      "BENTO COSTA LIMA LEITE DE ALBUQUERQUE JUNIOR 1028337.8\n"
     ]
    }
   ],
   "source": [
    "print(pessoa_maior_gasto, valor_maior_gasto)"
   ]
  },
  {
   "cell_type": "markdown",
   "id": "4c2ac120",
   "metadata": {},
   "source": [
    "Conferindo os registros do servidor"
   ]
  },
  {
   "cell_type": "code",
   "execution_count": 134,
   "id": "4770035d",
   "metadata": {},
   "outputs": [
    {
     "data": {
      "text/html": [
       "<div>\n",
       "<style scoped>\n",
       "    .dataframe tbody tr th:only-of-type {\n",
       "        vertical-align: middle;\n",
       "    }\n",
       "\n",
       "    .dataframe tbody tr th {\n",
       "        vertical-align: top;\n",
       "    }\n",
       "\n",
       "    .dataframe thead th {\n",
       "        text-align: right;\n",
       "    }\n",
       "</style>\n",
       "<table border=\"1\" class=\"dataframe\">\n",
       "  <thead>\n",
       "    <tr style=\"text-align: right;\">\n",
       "      <th></th>\n",
       "      <th>Nome</th>\n",
       "      <th>Taxa_servico</th>\n",
       "      <th>Valor_diárias</th>\n",
       "      <th>Valor_passagens</th>\n",
       "      <th>Valor_outros_gastos</th>\n",
       "      <th>Gasto_total</th>\n",
       "    </tr>\n",
       "  </thead>\n",
       "  <tbody>\n",
       "    <tr>\n",
       "      <th>4275</th>\n",
       "      <td>BENTO COSTA LIMA LEITE DE ALBUQUERQUE JUNIOR</td>\n",
       "      <td>0.0</td>\n",
       "      <td>1685.49</td>\n",
       "      <td>3339.42</td>\n",
       "      <td>0.00</td>\n",
       "      <td>5024.91</td>\n",
       "    </tr>\n",
       "    <tr>\n",
       "      <th>4301</th>\n",
       "      <td>BENTO COSTA LIMA LEITE DE ALBUQUERQUE JUNIOR</td>\n",
       "      <td>0.0</td>\n",
       "      <td>7605.68</td>\n",
       "      <td>24051.97</td>\n",
       "      <td>393.82</td>\n",
       "      <td>32051.47</td>\n",
       "    </tr>\n",
       "    <tr>\n",
       "      <th>5255</th>\n",
       "      <td>BENTO COSTA LIMA LEITE DE ALBUQUERQUE JUNIOR</td>\n",
       "      <td>0.0</td>\n",
       "      <td>75.92</td>\n",
       "      <td>1506.57</td>\n",
       "      <td>0.00</td>\n",
       "      <td>1582.49</td>\n",
       "    </tr>\n",
       "    <tr>\n",
       "      <th>9778</th>\n",
       "      <td>BENTO COSTA LIMA LEITE DE ALBUQUERQUE JUNIOR</td>\n",
       "      <td>0.0</td>\n",
       "      <td>1680.54</td>\n",
       "      <td>3132.42</td>\n",
       "      <td>0.00</td>\n",
       "      <td>4812.96</td>\n",
       "    </tr>\n",
       "    <tr>\n",
       "      <th>11321</th>\n",
       "      <td>BENTO COSTA LIMA LEITE DE ALBUQUERQUE JUNIOR</td>\n",
       "      <td>0.0</td>\n",
       "      <td>539.36</td>\n",
       "      <td>2244.42</td>\n",
       "      <td>0.00</td>\n",
       "      <td>2783.78</td>\n",
       "    </tr>\n",
       "    <tr>\n",
       "      <th>...</th>\n",
       "      <td>...</td>\n",
       "      <td>...</td>\n",
       "      <td>...</td>\n",
       "      <td>...</td>\n",
       "      <td>...</td>\n",
       "      <td>...</td>\n",
       "    </tr>\n",
       "    <tr>\n",
       "      <th>41785</th>\n",
       "      <td>BENTO COSTA LIMA LEITE DE ALBUQUERQUE JUNIOR</td>\n",
       "      <td>0.0</td>\n",
       "      <td>786.29</td>\n",
       "      <td>3451.98</td>\n",
       "      <td>0.00</td>\n",
       "      <td>4238.27</td>\n",
       "    </tr>\n",
       "    <tr>\n",
       "      <th>42436</th>\n",
       "      <td>BENTO COSTA LIMA LEITE DE ALBUQUERQUE JUNIOR</td>\n",
       "      <td>0.0</td>\n",
       "      <td>269.68</td>\n",
       "      <td>5067.86</td>\n",
       "      <td>0.00</td>\n",
       "      <td>5337.54</td>\n",
       "    </tr>\n",
       "    <tr>\n",
       "      <th>42663</th>\n",
       "      <td>BENTO COSTA LIMA LEITE DE ALBUQUERQUE JUNIOR</td>\n",
       "      <td>0.0</td>\n",
       "      <td>0.00</td>\n",
       "      <td>63997.61</td>\n",
       "      <td>484.44</td>\n",
       "      <td>64482.05</td>\n",
       "    </tr>\n",
       "    <tr>\n",
       "      <th>44732</th>\n",
       "      <td>BENTO COSTA LIMA LEITE DE ALBUQUERQUE JUNIOR</td>\n",
       "      <td>0.0</td>\n",
       "      <td>0.00</td>\n",
       "      <td>3290.66</td>\n",
       "      <td>0.00</td>\n",
       "      <td>3290.66</td>\n",
       "    </tr>\n",
       "    <tr>\n",
       "      <th>46099</th>\n",
       "      <td>BENTO COSTA LIMA LEITE DE ALBUQUERQUE JUNIOR</td>\n",
       "      <td>0.0</td>\n",
       "      <td>0.00</td>\n",
       "      <td>2776.83</td>\n",
       "      <td>0.00</td>\n",
       "      <td>2776.83</td>\n",
       "    </tr>\n",
       "  </tbody>\n",
       "</table>\n",
       "<p>120 rows × 6 columns</p>\n",
       "</div>"
      ],
      "text/plain": [
       "                                               Nome  Taxa_servico  \\\n",
       "4275   BENTO COSTA LIMA LEITE DE ALBUQUERQUE JUNIOR           0.0   \n",
       "4301   BENTO COSTA LIMA LEITE DE ALBUQUERQUE JUNIOR           0.0   \n",
       "5255   BENTO COSTA LIMA LEITE DE ALBUQUERQUE JUNIOR           0.0   \n",
       "9778   BENTO COSTA LIMA LEITE DE ALBUQUERQUE JUNIOR           0.0   \n",
       "11321  BENTO COSTA LIMA LEITE DE ALBUQUERQUE JUNIOR           0.0   \n",
       "...                                             ...           ...   \n",
       "41785  BENTO COSTA LIMA LEITE DE ALBUQUERQUE JUNIOR           0.0   \n",
       "42436  BENTO COSTA LIMA LEITE DE ALBUQUERQUE JUNIOR           0.0   \n",
       "42663  BENTO COSTA LIMA LEITE DE ALBUQUERQUE JUNIOR           0.0   \n",
       "44732  BENTO COSTA LIMA LEITE DE ALBUQUERQUE JUNIOR           0.0   \n",
       "46099  BENTO COSTA LIMA LEITE DE ALBUQUERQUE JUNIOR           0.0   \n",
       "\n",
       "       Valor_diárias  Valor_passagens  Valor_outros_gastos  Gasto_total  \n",
       "4275         1685.49          3339.42                 0.00      5024.91  \n",
       "4301         7605.68         24051.97               393.82     32051.47  \n",
       "5255           75.92          1506.57                 0.00      1582.49  \n",
       "9778         1680.54          3132.42                 0.00      4812.96  \n",
       "11321         539.36          2244.42                 0.00      2783.78  \n",
       "...              ...              ...                  ...          ...  \n",
       "41785         786.29          3451.98                 0.00      4238.27  \n",
       "42436         269.68          5067.86                 0.00      5337.54  \n",
       "42663           0.00         63997.61               484.44     64482.05  \n",
       "44732           0.00          3290.66                 0.00      3290.66  \n",
       "46099           0.00          2776.83                 0.00      2776.83  \n",
       "\n",
       "[120 rows x 6 columns]"
      ]
     },
     "execution_count": 134,
     "metadata": {},
     "output_type": "execute_result"
    }
   ],
   "source": [
    "nome  = 'BENTO COSTA LIMA LEITE DE ALBUQUERQUE JUNIOR'\n",
    "flt = trienio2[trienio2['Nome'] == nome]\n",
    "\n",
    "flt"
   ]
  },
  {
   "cell_type": "markdown",
   "id": "ba0d559c",
   "metadata": {},
   "source": [
    "Qual a Unidade Gestora (UG) que mais gastou com viagens no triênio (2017-2019)?"
   ]
  },
  {
   "cell_type": "code",
   "execution_count": 142,
   "id": "3949a5b8",
   "metadata": {},
   "outputs": [],
   "source": [
    "df1 = pd.DataFrame(df17_clean, columns=['Nome_ug_pagadora', 'Taxa_servico','Valor_diárias', 'Valor_passagens', 'Valor_outros_gastos'])\n",
    "df2 = pd.DataFrame(df18_clean, columns=['Nome_ug_pagadora', 'Taxa_servico','Valor_diárias', 'Valor_passagens', 'Valor_outros_gastos'])\n",
    "df3 = pd.DataFrame(df19_clean, columns=['Nome_ug_pagadora', 'Taxa_servico','Valor_diárias', 'Valor_passagens', 'Valor_outros_gastos'])\n",
    "\n",
    "trienio1 = pd.concat([df1, df2, df3])"
   ]
  },
  {
   "cell_type": "code",
   "execution_count": 144,
   "id": "bc67f0e0",
   "metadata": {},
   "outputs": [],
   "source": [
    "trienio1['Gasto_total'] = trienio1['Taxa_servico'] + trienio1['Valor_diárias'] + trienio1['Valor_passagens'] + trienio1['Valor_outros_gastos']\n",
    "# Agrupa o dataframe pelo nome da UG e calcule a soma dos gastos totais para cada UG\n",
    "gastos_ug = trienio1.groupby('Nome_ug_pagadora')['Gasto_total'].sum().reset_index()\n",
    "\n",
    "# Ordena o dataframe em ordem decrescente com base nos valores de gasto total\n",
    "gastos_ug = gastos_ug.sort_values('Gasto_total', ascending=False)\n",
    "\n",
    "ug_maior_gasto = gastos_ug.iloc[0]['Nome_ug_pagadora']\n",
    "valor_maior_gasto = gastos_ug.iloc[0]['Gasto_total']"
   ]
  },
  {
   "cell_type": "code",
   "execution_count": 146,
   "id": "66f07fd0",
   "metadata": {},
   "outputs": [
    {
     "name": "stdout",
     "output_type": "stream",
     "text": [
      "INST.NACIONAL DE EST.E PESQUISAS EDUCACIONAIS 62438848.64\n"
     ]
    }
   ],
   "source": [
    "print(ug_maior_gasto, valor_maior_gasto)"
   ]
  },
  {
   "cell_type": "markdown",
   "id": "8860fa4d",
   "metadata": {},
   "source": [
    "Qual a Unidade Gestora (UG) que mais gastou com viagens no triênio (2020-2022)?"
   ]
  },
  {
   "cell_type": "code",
   "execution_count": 149,
   "id": "8b4c6f97",
   "metadata": {},
   "outputs": [],
   "source": [
    "df4 = pd.DataFrame(df20_clean, columns=['Nome_ug_pagadora', 'Taxa_servico','Valor_diárias', 'Valor_passagens', 'Valor_outros_gastos'])\n",
    "df5 = pd.DataFrame(df21_clean, columns=['Nome_ug_pagadora', 'Taxa_servico','Valor_diárias', 'Valor_passagens', 'Valor_outros_gastos'])\n",
    "df6 = pd.DataFrame(df22_clean, columns=['Nome_ug_pagadora', 'Taxa_servico','Valor_diárias', 'Valor_passagens', 'Valor_outros_gastos'])\n",
    "\n",
    "trienio2 = pd.concat([df4, df5, df6])"
   ]
  },
  {
   "cell_type": "code",
   "execution_count": 150,
   "id": "809afdeb",
   "metadata": {},
   "outputs": [],
   "source": [
    "trienio2['Gasto_total'] = trienio2['Taxa_servico'] + trienio2['Valor_diárias'] + trienio2['Valor_passagens'] + trienio2['Valor_outros_gastos']\n",
    "\n",
    "gastos_ug = trienio2.groupby('Nome_ug_pagadora')['Gasto_total'].sum().reset_index()\n",
    "\n",
    "\n",
    "gastos_ug = gastos_ug.sort_values('Gasto_total', ascending=False)\n",
    "\n",
    "ug_maior_gasto = gastos_ug.iloc[0]['Nome_ug_pagadora']\n",
    "valor_maior_gasto = gastos_ug.iloc[0]['Gasto_total']"
   ]
  },
  {
   "cell_type": "code",
   "execution_count": 151,
   "id": "4efc80b2",
   "metadata": {},
   "outputs": [
    {
     "name": "stdout",
     "output_type": "stream",
     "text": [
      "FUNDO NACIONAL DE SEGURANCA PUBLICA - FNSP 133011826.96\n"
     ]
    }
   ],
   "source": [
    "print(ug_maior_gasto, valor_maior_gasto)"
   ]
  },
  {
   "cell_type": "markdown",
   "id": "017107e2",
   "metadata": {},
   "source": [
    "Os resultados são coerentes, dado que o **INST.NACIONAL DE EST.E PESQUISAS EDUCACIONAIS** pertence ao MEC, e o **FUNDO NACIONAL DE SEGURANCA PUBLICA - FNSP** pertence ao Ministério da Justiça. Dois dos ministérios com mais verbas e mais pessoal."
   ]
  },
  {
   "cell_type": "markdown",
   "id": "4241faae",
   "metadata": {},
   "source": [
    "Qual é o tempo em média que o servidor permanece afastado de suas funções?"
   ]
  },
  {
   "cell_type": "code",
   "execution_count": 161,
   "id": "f54a9238",
   "metadata": {},
   "outputs": [],
   "source": [
    "df17_clean['Diferenca'] = df17_clean['Periodo_fim'] - df17_clean['Periodo_inicio']\n",
    "df18_clean['Diferenca'] = df18_clean['Periodo_fim'] - df18_clean['Periodo_inicio']\n",
    "df19_clean['Diferenca'] = df19_clean['Periodo_fim'] - df19_clean['Periodo_inicio']\n",
    "df20_clean['Diferenca'] = df20_clean['Periodo_fim'] - df20_clean['Periodo_inicio']\n",
    "df21_clean['Diferenca'] = df21_clean['Periodo_fim'] - df21_clean['Periodo_inicio']\n",
    "df22_clean['Diferenca'] = df22_clean['Periodo_fim'] - df22_clean['Periodo_inicio']"
   ]
  },
  {
   "cell_type": "code",
   "execution_count": 163,
   "id": "a2933f6e",
   "metadata": {},
   "outputs": [],
   "source": [
    "dfs = [df17_clean, df18_clean, df19_clean, df20_clean, df21_clean, df22_clean]\n",
    "\n",
    "medias = []\n",
    "for df in dfs:\n",
    "    media = df['Diferenca'].mean()\n",
    "    medias.append(media)"
   ]
  },
  {
   "cell_type": "code",
   "execution_count": 167,
   "id": "dedb0b83",
   "metadata": {},
   "outputs": [],
   "source": [
    "#converte em uma series do pandas\n",
    "medias_series = pd.Series(medias)\n",
    "\n",
    "# extrair apenas a parte dos dias das médias\n",
    "medias_dias = medias_series.dt.days"
   ]
  },
  {
   "cell_type": "code",
   "execution_count": 168,
   "id": "a86563e6",
   "metadata": {},
   "outputs": [
    {
     "data": {
      "text/plain": [
       "0    5\n",
       "1    6\n",
       "2    5\n",
       "3    8\n",
       "4    8\n",
       "5    8\n",
       "dtype: int64"
      ]
     },
     "execution_count": 168,
     "metadata": {},
     "output_type": "execute_result"
    }
   ],
   "source": [
    "medias_dias"
   ]
  },
  {
   "cell_type": "markdown",
   "id": "00f6bfad",
   "metadata": {},
   "source": [
    "Entre 2017-2019 a média de tempo em afastamento era entre 5 e 6 dias. Já durante o triênio da pandemia de Covid-19 esta mesma média subiu e se estabilizou em 8 dias. Muito possivelmente este fato é explicado pela adoção de regimes de lockdown entre os diversos governos do país e do mundo. O que acarretou que muitos viajantes acabaram ficando mais dias nos destinos."
   ]
  },
  {
   "cell_type": "markdown",
   "id": "7057d3e1",
   "metadata": {},
   "source": [
    "# Conclusões\n",
    "\n",
    "Alguns insights relevantes:\n",
    "* Como já era esperado houve uma forte queda no número de viagens;\n",
    "* Atualmente o servidor fica em média 8 dias afastado para viagem;\n",
    "* Os países mais visitados são: EUA, França, Portugal, China e Argentina;\n",
    "* As cidades brasileiras mais visitadas são: Brasília, São Paulo, Manaus, Rio de Janeiro, BH e Porto Alegre;\n",
    "* As UFs onde mais há partidas são: DF, RJ, RS e AM;\n",
    "* Mais de 90% das viagens ocorreram por via aérea;\n",
    "* Cerca de 15% das viagens ocorreram sem nenhum tipo de missão oficial;\n",
    "* No ano de 2020 (ano mais intenso da pandemia) apenas 20% das viagens não ocorreram;\n",
    "* Entre 2017-2019 o servidor DECIO FABRICIO ODDONE DA COSTA foi o que mais gastou em viagens;\n",
    "* entre 2020-2022 o servidor BENTO COSTA LIMA LEITE DE ALBUQUERQUE JUNIOR foi o que mais gastou em viagens.\n"
   ]
  },
  {
   "cell_type": "markdown",
   "id": "7fa5cb89",
   "metadata": {},
   "source": [
    "# Observações\n",
    "\n",
    "Eu desenvolvi um dashboard em streamlit, porém não consegui realizar o deploy. Tentei, então, criar um arquivo python executável. No entanto, também não obtive sucesso.\n",
    "\n",
    "Por isso, abaixo eu anexei os gráficos contidos no dashboard.\n",
    "\n",
    "O código-fonte do dashboard \"viagens.py\" está no repositório."
   ]
  },
  {
   "cell_type": "markdown",
   "id": "f6061b12",
   "metadata": {},
   "source": [
    "![sidebar](sidebar.PNG)"
   ]
  },
  {
   "cell_type": "markdown",
   "id": "9d23209c",
   "metadata": {},
   "source": [
    "![sup](sup.PNG)"
   ]
  },
  {
   "cell_type": "markdown",
   "id": "ab1491ad",
   "metadata": {},
   "source": [
    "![inf](inf.PNG)"
   ]
  }
 ],
 "metadata": {
  "kernelspec": {
   "display_name": "Python 3 (ipykernel)",
   "language": "python",
   "name": "python3"
  },
  "language_info": {
   "codemirror_mode": {
    "name": "ipython",
    "version": 3
   },
   "file_extension": ".py",
   "mimetype": "text/x-python",
   "name": "python",
   "nbconvert_exporter": "python",
   "pygments_lexer": "ipython3",
   "version": "3.11.0"
  }
 },
 "nbformat": 4,
 "nbformat_minor": 5
}
