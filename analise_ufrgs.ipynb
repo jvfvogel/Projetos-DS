{
 "cells": [
  {
   "cell_type": "markdown",
   "metadata": {},
   "source": [
    "Introdução\n",
    "\n",
    "Análise exploratória de dados quantitativos sobre alunos de graduação da UFRGS.\n",
    "Dados do período de 2010 a 2021.\n"
   ]
  },
  {
   "cell_type": "code",
   "execution_count": 2,
   "metadata": {},
   "outputs": [
    {
     "data": {
      "text/html": [
       "<div>\n",
       "<style scoped>\n",
       "    .dataframe tbody tr th:only-of-type {\n",
       "        vertical-align: middle;\n",
       "    }\n",
       "\n",
       "    .dataframe tbody tr th {\n",
       "        vertical-align: top;\n",
       "    }\n",
       "\n",
       "    .dataframe thead th {\n",
       "        text-align: right;\n",
       "    }\n",
       "</style>\n",
       "<table border=\"1\" class=\"dataframe\">\n",
       "  <thead>\n",
       "    <tr style=\"text-align: right;\">\n",
       "      <th></th>\n",
       "      <th>Unnamed: 0</th>\n",
       "      <th>CodCurso</th>\n",
       "      <th>NomeCurso</th>\n",
       "      <th>Ano</th>\n",
       "      <th>Periodo</th>\n",
       "      <th>Vinculados</th>\n",
       "      <th>Matriculados</th>\n",
       "      <th>Ingressantes</th>\n",
       "      <th>Diplomados</th>\n",
       "      <th>Evadidos</th>\n",
       "    </tr>\n",
       "  </thead>\n",
       "  <tbody>\n",
       "    <tr>\n",
       "      <th>0</th>\n",
       "      <td>0</td>\n",
       "      <td>298</td>\n",
       "      <td>ADMINISTRAÇÃO</td>\n",
       "      <td>2010</td>\n",
       "      <td>1</td>\n",
       "      <td>1501</td>\n",
       "      <td>1349</td>\n",
       "      <td>169</td>\n",
       "      <td>91</td>\n",
       "      <td>24</td>\n",
       "    </tr>\n",
       "    <tr>\n",
       "      <th>1</th>\n",
       "      <td>1</td>\n",
       "      <td>583</td>\n",
       "      <td>ADMINISTRAÇÃO - EAD</td>\n",
       "      <td>2010</td>\n",
       "      <td>1</td>\n",
       "      <td>351</td>\n",
       "      <td>345</td>\n",
       "      <td>1</td>\n",
       "      <td>0</td>\n",
       "      <td>6</td>\n",
       "    </tr>\n",
       "    <tr>\n",
       "      <th>2</th>\n",
       "      <td>2</td>\n",
       "      <td>299</td>\n",
       "      <td>AGRONOMIA</td>\n",
       "      <td>2010</td>\n",
       "      <td>1</td>\n",
       "      <td>494</td>\n",
       "      <td>448</td>\n",
       "      <td>50</td>\n",
       "      <td>31</td>\n",
       "      <td>19</td>\n",
       "    </tr>\n",
       "    <tr>\n",
       "      <th>3</th>\n",
       "      <td>3</td>\n",
       "      <td>300</td>\n",
       "      <td>ARQUITETURA E URBANISMO</td>\n",
       "      <td>2010</td>\n",
       "      <td>1</td>\n",
       "      <td>625</td>\n",
       "      <td>578</td>\n",
       "      <td>53</td>\n",
       "      <td>41</td>\n",
       "      <td>12</td>\n",
       "    </tr>\n",
       "    <tr>\n",
       "      <th>4</th>\n",
       "      <td>4</td>\n",
       "      <td>301</td>\n",
       "      <td>ARQUIVOLOGIA</td>\n",
       "      <td>2010</td>\n",
       "      <td>1</td>\n",
       "      <td>157</td>\n",
       "      <td>134</td>\n",
       "      <td>30</td>\n",
       "      <td>4</td>\n",
       "      <td>6</td>\n",
       "    </tr>\n",
       "  </tbody>\n",
       "</table>\n",
       "</div>"
      ],
      "text/plain": [
       "   Unnamed: 0  CodCurso                NomeCurso   Ano  Periodo  Vinculados  \\\n",
       "0           0       298            ADMINISTRAÇÃO  2010        1        1501   \n",
       "1           1       583      ADMINISTRAÇÃO - EAD  2010        1         351   \n",
       "2           2       299                AGRONOMIA  2010        1         494   \n",
       "3           3       300  ARQUITETURA E URBANISMO  2010        1         625   \n",
       "4           4       301             ARQUIVOLOGIA  2010        1         157   \n",
       "\n",
       "   Matriculados  Ingressantes  Diplomados  Evadidos  \n",
       "0          1349           169          91        24  \n",
       "1           345             1           0         6  \n",
       "2           448            50          31        19  \n",
       "3           578            53          41        12  \n",
       "4           134            30           4         6  "
      ]
     },
     "execution_count": 2,
     "metadata": {},
     "output_type": "execute_result"
    }
   ],
   "source": [
    "import pandas as pd\n",
    "import matplotlib.pyplot as plt\n",
    "\n",
    "df = pd.read_csv(\"dados/tlimpa.csv\")\n",
    "\n",
    "df.head()"
   ]
  },
  {
   "cell_type": "code",
   "execution_count": 3,
   "metadata": {},
   "outputs": [
    {
     "data": {
      "text/html": [
       "<div>\n",
       "<style scoped>\n",
       "    .dataframe tbody tr th:only-of-type {\n",
       "        vertical-align: middle;\n",
       "    }\n",
       "\n",
       "    .dataframe tbody tr th {\n",
       "        vertical-align: top;\n",
       "    }\n",
       "\n",
       "    .dataframe thead th {\n",
       "        text-align: right;\n",
       "    }\n",
       "</style>\n",
       "<table border=\"1\" class=\"dataframe\">\n",
       "  <thead>\n",
       "    <tr style=\"text-align: right;\">\n",
       "      <th></th>\n",
       "      <th>Unnamed: 0</th>\n",
       "      <th>CodCurso</th>\n",
       "      <th>NomeCurso</th>\n",
       "      <th>Ano</th>\n",
       "      <th>Periodo</th>\n",
       "      <th>Vinculados</th>\n",
       "      <th>Matriculados</th>\n",
       "      <th>Ingressantes</th>\n",
       "      <th>Diplomados</th>\n",
       "      <th>Evadidos</th>\n",
       "    </tr>\n",
       "  </thead>\n",
       "  <tbody>\n",
       "    <tr>\n",
       "      <th>1865</th>\n",
       "      <td>1865</td>\n",
       "      <td>1490</td>\n",
       "      <td>RELAÇÕES PÚBLICAS</td>\n",
       "      <td>2021</td>\n",
       "      <td>2</td>\n",
       "      <td>288</td>\n",
       "      <td>281</td>\n",
       "      <td>24</td>\n",
       "      <td>16</td>\n",
       "      <td>5</td>\n",
       "    </tr>\n",
       "    <tr>\n",
       "      <th>1866</th>\n",
       "      <td>1866</td>\n",
       "      <td>806</td>\n",
       "      <td>SAÚDE COLETIVA</td>\n",
       "      <td>2021</td>\n",
       "      <td>2</td>\n",
       "      <td>269</td>\n",
       "      <td>252</td>\n",
       "      <td>23</td>\n",
       "      <td>7</td>\n",
       "      <td>6</td>\n",
       "    </tr>\n",
       "    <tr>\n",
       "      <th>1867</th>\n",
       "      <td>1867</td>\n",
       "      <td>907</td>\n",
       "      <td>SERVIÇO SOCIAL</td>\n",
       "      <td>2021</td>\n",
       "      <td>2</td>\n",
       "      <td>172</td>\n",
       "      <td>168</td>\n",
       "      <td>6</td>\n",
       "      <td>6</td>\n",
       "      <td>1</td>\n",
       "    </tr>\n",
       "    <tr>\n",
       "      <th>1868</th>\n",
       "      <td>1868</td>\n",
       "      <td>302</td>\n",
       "      <td>TEATRO</td>\n",
       "      <td>2021</td>\n",
       "      <td>2</td>\n",
       "      <td>243</td>\n",
       "      <td>230</td>\n",
       "      <td>5</td>\n",
       "      <td>6</td>\n",
       "      <td>5</td>\n",
       "    </tr>\n",
       "    <tr>\n",
       "      <th>1869</th>\n",
       "      <td>1869</td>\n",
       "      <td>1071</td>\n",
       "      <td>ZOOTECNIA</td>\n",
       "      <td>2021</td>\n",
       "      <td>2</td>\n",
       "      <td>261</td>\n",
       "      <td>254</td>\n",
       "      <td>24</td>\n",
       "      <td>23</td>\n",
       "      <td>6</td>\n",
       "    </tr>\n",
       "  </tbody>\n",
       "</table>\n",
       "</div>"
      ],
      "text/plain": [
       "      Unnamed: 0  CodCurso          NomeCurso   Ano  Periodo  Vinculados  \\\n",
       "1865        1865      1490  RELAÇÕES PÚBLICAS  2021        2         288   \n",
       "1866        1866       806     SAÚDE COLETIVA  2021        2         269   \n",
       "1867        1867       907     SERVIÇO SOCIAL  2021        2         172   \n",
       "1868        1868       302             TEATRO  2021        2         243   \n",
       "1869        1869      1071          ZOOTECNIA  2021        2         261   \n",
       "\n",
       "      Matriculados  Ingressantes  Diplomados  Evadidos  \n",
       "1865           281            24          16         5  \n",
       "1866           252            23           7         6  \n",
       "1867           168             6           6         1  \n",
       "1868           230             5           6         5  \n",
       "1869           254            24          23         6  "
      ]
     },
     "execution_count": 3,
     "metadata": {},
     "output_type": "execute_result"
    }
   ],
   "source": [
    "df.tail()"
   ]
  },
  {
   "cell_type": "markdown",
   "metadata": {},
   "source": [
    "Verificar informações sobre o dataframe e suas colunas"
   ]
  },
  {
   "cell_type": "code",
   "execution_count": 4,
   "metadata": {},
   "outputs": [
    {
     "name": "stdout",
     "output_type": "stream",
     "text": [
      "<class 'pandas.core.frame.DataFrame'>\n",
      "RangeIndex: 1870 entries, 0 to 1869\n",
      "Data columns (total 10 columns):\n",
      " #   Column        Non-Null Count  Dtype \n",
      "---  ------        --------------  ----- \n",
      " 0   Unnamed: 0    1870 non-null   int64 \n",
      " 1   CodCurso      1870 non-null   int64 \n",
      " 2   NomeCurso     1870 non-null   object\n",
      " 3   Ano           1870 non-null   int64 \n",
      " 4   Periodo       1870 non-null   int64 \n",
      " 5   Vinculados    1870 non-null   int64 \n",
      " 6   Matriculados  1870 non-null   int64 \n",
      " 7   Ingressantes  1870 non-null   int64 \n",
      " 8   Diplomados    1870 non-null   int64 \n",
      " 9   Evadidos      1870 non-null   int64 \n",
      "dtypes: int64(9), object(1)\n",
      "memory usage: 146.2+ KB\n"
     ]
    }
   ],
   "source": [
    "df.info()"
   ]
  },
  {
   "cell_type": "markdown",
   "metadata": {},
   "source": [
    "Verificar a existência de dados nulos nas colunas"
   ]
  },
  {
   "cell_type": "code",
   "execution_count": 5,
   "metadata": {},
   "outputs": [
    {
     "data": {
      "text/plain": [
       "Unnamed: 0      0\n",
       "CodCurso        0\n",
       "NomeCurso       0\n",
       "Ano             0\n",
       "Periodo         0\n",
       "Vinculados      0\n",
       "Matriculados    0\n",
       "Ingressantes    0\n",
       "Diplomados      0\n",
       "Evadidos        0\n",
       "dtype: int64"
      ]
     },
     "execution_count": 5,
     "metadata": {},
     "output_type": "execute_result"
    }
   ],
   "source": [
    "df.isnull().sum()"
   ]
  },
  {
   "cell_type": "code",
   "execution_count": 7,
   "metadata": {
    "scrolled": false
   },
   "outputs": [
    {
     "data": {
      "text/plain": [
       "Ano\n",
       "2010    2312\n",
       "2011    2552\n",
       "2012    2468\n",
       "2013    2272\n",
       "2014    2638\n",
       "2015    2646\n",
       "2016    3450\n",
       "2017    3640\n",
       "2018    2992\n",
       "2019    3523\n",
       "2020    1594\n",
       "2021    1375\n",
       "Name: Evadidos, dtype: int64"
      ]
     },
     "execution_count": 7,
     "metadata": {},
     "output_type": "execute_result"
    }
   ],
   "source": [
    "anos = df.Ano.unique()\n",
    "evadidos_soma_total = df.Evadidos.sum()\n",
    "evadidos_por_ano = df.groupby('Ano')['Evadidos'].sum()\n",
    "evadidos_por_ano\n"
   ]
  },
  {
   "cell_type": "code",
   "execution_count": 6,
   "metadata": {},
   "outputs": [
    {
     "data": {
      "image/png": "[encoded data removed]",
      "text/plain": [
       "<Figure size 1300x500 with 1 Axes>"
      ]
     },
     "metadata": {},
     "output_type": "display_data"
    }
   ],
   "source": [
    "fig = plt.figure(figsize=(13,5))\n",
    "plt.fill_between( anos, evadidos_por_ano, color=\"skyblue\", alpha=0.3)\n",
    "plt.xticks(range(2010,2022))\n",
    "plt.plot(anos, evadidos_por_ano, color=\"slateblue\")\n",
    "plt.title(\"Estudantes evadidos ao longo do tempo\", fontsize=15)\n",
    "plt.xlabel(\"Ano\")\n",
    "plt.ylabel(\"Evadidos\")\n",
    "plt.show()"
   ]
  },
  {
   "cell_type": "code",
   "execution_count": 58,
   "metadata": {},
   "outputs": [
    {
     "data": {
      "text/plain": [
       "Ano\n",
       "2010    48467\n",
       "2011    48077\n",
       "2012    49038\n",
       "2013    50526\n",
       "2014    53266\n",
       "2015    54735\n",
       "2016    56879\n",
       "2017    56951\n",
       "2018    57493\n",
       "2019    56431\n",
       "2020    60779\n",
       "2021    66240\n",
       "Name: Matriculados, dtype: int64"
      ]
     },
     "execution_count": 58,
     "metadata": {},
     "output_type": "execute_result"
    }
   ],
   "source": [
    "matriculados_por_ano = df.groupby('Ano')['Matriculados'].sum()\n",
    "matriculados_por_ano "
   ]
  },
  {
   "cell_type": "code",
   "execution_count": 60,
   "metadata": {},
   "outputs": [
    {
     "data": {
      "image/png": "[encoded data removed]",
      "text/plain": [
       "<Figure size 1300x500 with 1 Axes>"
      ]
     },
     "metadata": {},
     "output_type": "display_data"
    }
   ],
   "source": [
    "fig2 = plt.figure(figsize=(13,5))\n",
    "plt.fill_between( anos, matriculados_por_ano, color=\"skyblue\", alpha=0.3)\n",
    "plt.xticks(range(2010,2022))\n",
    "plt.plot(anos, matriculados_por_ano, color=\"slateblue\")\n",
    "plt.title(\"Estudantes matriculados ao longo do tempo\", fontsize=15)\n",
    "plt.xlabel(\"Ano\")\n",
    "plt.ylabel(\"Matriculados\")\n",
    "plt.show()"
   ]
  },
  {
   "cell_type": "code",
   "execution_count": 61,
   "metadata": {},
   "outputs": [
    {
     "data": {
      "text/plain": [
       "Ano\n",
       "2010    3549\n",
       "2011    3205\n",
       "2012    3122\n",
       "2013    3011\n",
       "2014    2902\n",
       "2015    2973\n",
       "2016    3075\n",
       "2017    3549\n",
       "2018    3644\n",
       "2019    3781\n",
       "2020    2912\n",
       "2021    3105\n",
       "Name: Diplomados, dtype: int64"
      ]
     },
     "execution_count": 61,
     "metadata": {},
     "output_type": "execute_result"
    }
   ],
   "source": [
    "diplomados_por_ano = df.groupby('Ano')['Diplomados'].sum()\n",
    "diplomados_por_ano"
   ]
  },
  {
   "cell_type": "code",
   "execution_count": 54,
   "metadata": {},
   "outputs": [
    {
     "data": {
      "image/png": "[encoded data removed]",
      "text/plain": [
       "<Figure size 1300x500 with 1 Axes>"
      ]
     },
     "metadata": {},
     "output_type": "display_data"
    }
   ],
   "source": [
    "fig3 = plt.figure(figsize=(13,5))\n",
    "plt.fill_between( anos, diplomados_por_ano, color=\"skyblue\", alpha=0.3)\n",
    "plt.xticks(range(2010,2022))\n",
    "plt.plot(anos, diplomados_por_ano, color=\"slateblue\")\n",
    "plt.title(\"Estudantes diplomados ao longo do tempo\", fontsize=15)\n",
    "plt.xlabel(\"Ano\")\n",
    "plt.ylabel(\"Diplomados\")\n",
    "plt.show()"
   ]
  },
  {
   "cell_type": "markdown",
   "metadata": {},
   "source": [
    "Próximo objetivo é classificar (rankear) os cursos por evasão ao longo do período analisado."
   ]
  },
  {
   "cell_type": "code",
   "execution_count": 39,
   "metadata": {},
   "outputs": [],
   "source": [
    "evadidos_porcurso = df.groupby(['NomeCurso'])['Evadidos'].sum()\n",
    "# salva o resultado como um arquivo csv\n",
    "# evadidos_porcurso.to_csv(\"dados/evadidos_porcurso.csv\")\n"
   ]
  },
  {
   "cell_type": "code",
   "execution_count": 70,
   "metadata": {},
   "outputs": [
    {
     "data": {
      "text/html": [
       "<div>\n",
       "<style scoped>\n",
       "    .dataframe tbody tr th:only-of-type {\n",
       "        vertical-align: middle;\n",
       "    }\n",
       "\n",
       "    .dataframe tbody tr th {\n",
       "        vertical-align: top;\n",
       "    }\n",
       "\n",
       "    .dataframe thead th {\n",
       "        text-align: right;\n",
       "    }\n",
       "</style>\n",
       "<table border=\"1\" class=\"dataframe\">\n",
       "  <thead>\n",
       "    <tr style=\"text-align: right;\">\n",
       "      <th></th>\n",
       "      <th>NomeCurso</th>\n",
       "      <th>Evadidos</th>\n",
       "    </tr>\n",
       "  </thead>\n",
       "  <tbody>\n",
       "    <tr>\n",
       "      <th>0</th>\n",
       "      <td>ADMINISTRAÇÃO</td>\n",
       "      <td>1284</td>\n",
       "    </tr>\n",
       "    <tr>\n",
       "      <th>1</th>\n",
       "      <td>ADMINISTRAÇÃO - EAD</td>\n",
       "      <td>36</td>\n",
       "    </tr>\n",
       "    <tr>\n",
       "      <th>2</th>\n",
       "      <td>ADMINISTRAÇÃO PÚBLICA E SOCIAL</td>\n",
       "      <td>179</td>\n",
       "    </tr>\n",
       "    <tr>\n",
       "      <th>3</th>\n",
       "      <td>AGRONOMIA</td>\n",
       "      <td>397</td>\n",
       "    </tr>\n",
       "    <tr>\n",
       "      <th>4</th>\n",
       "      <td>ARQUITETURA E URBANISMO</td>\n",
       "      <td>358</td>\n",
       "    </tr>\n",
       "    <tr>\n",
       "      <th>...</th>\n",
       "      <td>...</td>\n",
       "      <td>...</td>\n",
       "    </tr>\n",
       "    <tr>\n",
       "      <th>90</th>\n",
       "      <td>SAÚDE COLETIVA</td>\n",
       "      <td>298</td>\n",
       "    </tr>\n",
       "    <tr>\n",
       "      <th>91</th>\n",
       "      <td>SERVIÇO SOCIAL</td>\n",
       "      <td>89</td>\n",
       "    </tr>\n",
       "    <tr>\n",
       "      <th>92</th>\n",
       "      <td>TEATRO</td>\n",
       "      <td>185</td>\n",
       "    </tr>\n",
       "    <tr>\n",
       "      <th>93</th>\n",
       "      <td>TECNOLOGIA EM DESENVOLVIMENTO RURAL - EAD</td>\n",
       "      <td>236</td>\n",
       "    </tr>\n",
       "    <tr>\n",
       "      <th>94</th>\n",
       "      <td>ZOOTECNIA</td>\n",
       "      <td>178</td>\n",
       "    </tr>\n",
       "  </tbody>\n",
       "</table>\n",
       "<p>95 rows × 2 columns</p>\n",
       "</div>"
      ],
      "text/plain": [
       "                                    NomeCurso  Evadidos\n",
       "0                               ADMINISTRAÇÃO      1284\n",
       "1                         ADMINISTRAÇÃO - EAD        36\n",
       "2              ADMINISTRAÇÃO PÚBLICA E SOCIAL       179\n",
       "3                                   AGRONOMIA       397\n",
       "4                     ARQUITETURA E URBANISMO       358\n",
       "..                                        ...       ...\n",
       "90                             SAÚDE COLETIVA       298\n",
       "91                             SERVIÇO SOCIAL        89\n",
       "92                                     TEATRO       185\n",
       "93  TECNOLOGIA EM DESENVOLVIMENTO RURAL - EAD       236\n",
       "94                                  ZOOTECNIA       178\n",
       "\n",
       "[95 rows x 2 columns]"
      ]
     },
     "execution_count": 70,
     "metadata": {},
     "output_type": "execute_result"
    }
   ],
   "source": [
    "df_evasao = pd.read_csv(\"dados/evadidos_porcurso.csv\")\n",
    "df_evasao"
   ]
  },
  {
   "cell_type": "code",
   "execution_count": 46,
   "metadata": {},
   "outputs": [
    {
     "data": {
      "text/html": [
       "<div>\n",
       "<style scoped>\n",
       "    .dataframe tbody tr th:only-of-type {\n",
       "        vertical-align: middle;\n",
       "    }\n",
       "\n",
       "    .dataframe tbody tr th {\n",
       "        vertical-align: top;\n",
       "    }\n",
       "\n",
       "    .dataframe thead th {\n",
       "        text-align: right;\n",
       "    }\n",
       "</style>\n",
       "<table border=\"1\" class=\"dataframe\">\n",
       "  <thead>\n",
       "    <tr style=\"text-align: right;\">\n",
       "      <th></th>\n",
       "      <th>NomeCurso</th>\n",
       "      <th>Evadidos</th>\n",
       "    </tr>\n",
       "  </thead>\n",
       "  <tbody>\n",
       "    <tr>\n",
       "      <th>24</th>\n",
       "      <td>CIÊNCIAS SOCIAIS</td>\n",
       "      <td>1702</td>\n",
       "    </tr>\n",
       "    <tr>\n",
       "      <th>70</th>\n",
       "      <td>LETRAS</td>\n",
       "      <td>1552</td>\n",
       "    </tr>\n",
       "    <tr>\n",
       "      <th>60</th>\n",
       "      <td>FÍSICA</td>\n",
       "      <td>1405</td>\n",
       "    </tr>\n",
       "    <tr>\n",
       "      <th>72</th>\n",
       "      <td>MATEMÁTICA</td>\n",
       "      <td>1387</td>\n",
       "    </tr>\n",
       "    <tr>\n",
       "      <th>0</th>\n",
       "      <td>ADMINISTRAÇÃO</td>\n",
       "      <td>1284</td>\n",
       "    </tr>\n",
       "    <tr>\n",
       "      <th>87</th>\n",
       "      <td>QUÍMICA</td>\n",
       "      <td>1145</td>\n",
       "    </tr>\n",
       "    <tr>\n",
       "      <th>66</th>\n",
       "      <td>HISTÓRIA</td>\n",
       "      <td>1027</td>\n",
       "    </tr>\n",
       "    <tr>\n",
       "      <th>22</th>\n",
       "      <td>CIÊNCIAS ECONÔMICAS</td>\n",
       "      <td>933</td>\n",
       "    </tr>\n",
       "    <tr>\n",
       "      <th>35</th>\n",
       "      <td>EDUCAÇÃO FÍSICA</td>\n",
       "      <td>897</td>\n",
       "    </tr>\n",
       "    <tr>\n",
       "      <th>56</th>\n",
       "      <td>FARMÁCIA</td>\n",
       "      <td>884</td>\n",
       "    </tr>\n",
       "  </tbody>\n",
       "</table>\n",
       "</div>"
      ],
      "text/plain": [
       "              NomeCurso  Evadidos\n",
       "24     CIÊNCIAS SOCIAIS      1702\n",
       "70               LETRAS      1552\n",
       "60               FÍSICA      1405\n",
       "72           MATEMÁTICA      1387\n",
       "0         ADMINISTRAÇÃO      1284\n",
       "87              QUÍMICA      1145\n",
       "66             HISTÓRIA      1027\n",
       "22  CIÊNCIAS ECONÔMICAS       933\n",
       "35      EDUCAÇÃO FÍSICA       897\n",
       "56             FARMÁCIA       884"
      ]
     },
     "execution_count": 46,
     "metadata": {},
     "output_type": "execute_result"
    }
   ],
   "source": [
    "top10 = df_evasao[['NomeCurso','Evadidos']].sort_values('Evadidos',ascending=False).head(10)\n",
    "top10"
   ]
  },
  {
   "cell_type": "code",
   "execution_count": 47,
   "metadata": {},
   "outputs": [
    {
     "data": {
      "text/html": [
       "<div>\n",
       "<style scoped>\n",
       "    .dataframe tbody tr th:only-of-type {\n",
       "        vertical-align: middle;\n",
       "    }\n",
       "\n",
       "    .dataframe tbody tr th {\n",
       "        vertical-align: top;\n",
       "    }\n",
       "\n",
       "    .dataframe thead th {\n",
       "        text-align: right;\n",
       "    }\n",
       "</style>\n",
       "<table border=\"1\" class=\"dataframe\">\n",
       "  <thead>\n",
       "    <tr style=\"text-align: right;\">\n",
       "      <th></th>\n",
       "      <th>NomeCurso</th>\n",
       "      <th>Evadidos</th>\n",
       "    </tr>\n",
       "  </thead>\n",
       "  <tbody>\n",
       "    <tr>\n",
       "      <th>44</th>\n",
       "      <td>ENGENHARIA DE GESTÃO DE ENERGIA - LITORAL NORTE</td>\n",
       "      <td>0</td>\n",
       "    </tr>\n",
       "    <tr>\n",
       "      <th>64</th>\n",
       "      <td>GEOGRAFIA - LITORAL NORTE</td>\n",
       "      <td>0</td>\n",
       "    </tr>\n",
       "    <tr>\n",
       "      <th>48</th>\n",
       "      <td>ENGENHARIA DE SERVIÇOS - LITORAL NORTE</td>\n",
       "      <td>1</td>\n",
       "    </tr>\n",
       "    <tr>\n",
       "      <th>19</th>\n",
       "      <td>CIÊNCIAS BIOLÓGICAS - LICENCIATURA - ENSINO A ...</td>\n",
       "      <td>3</td>\n",
       "    </tr>\n",
       "    <tr>\n",
       "      <th>29</th>\n",
       "      <td>DESENVOLVIMENTO REGIONAL - LITORAL NORTE</td>\n",
       "      <td>3</td>\n",
       "    </tr>\n",
       "    <tr>\n",
       "      <th>18</th>\n",
       "      <td>CIÊNCIAS BIOLÓGICAS - LICENCIATURA</td>\n",
       "      <td>9</td>\n",
       "    </tr>\n",
       "    <tr>\n",
       "      <th>86</th>\n",
       "      <td>PUBLICIDADE E PROPAGANDA</td>\n",
       "      <td>12</td>\n",
       "    </tr>\n",
       "    <tr>\n",
       "      <th>10</th>\n",
       "      <td>BIBLIOTECONOMIA - ENSINO A DISTÂNCIA - EAD</td>\n",
       "      <td>16</td>\n",
       "    </tr>\n",
       "    <tr>\n",
       "      <th>73</th>\n",
       "      <td>MATEMÁTICA - ENSINO A DISTÂNCIA - EAD</td>\n",
       "      <td>18</td>\n",
       "    </tr>\n",
       "    <tr>\n",
       "      <th>7</th>\n",
       "      <td>ARTES VISUAIS - ENSINO A DISTÂNCIA - EAD</td>\n",
       "      <td>24</td>\n",
       "    </tr>\n",
       "  </tbody>\n",
       "</table>\n",
       "</div>"
      ],
      "text/plain": [
       "                                            NomeCurso  Evadidos\n",
       "44    ENGENHARIA DE GESTÃO DE ENERGIA - LITORAL NORTE         0\n",
       "64                          GEOGRAFIA - LITORAL NORTE         0\n",
       "48             ENGENHARIA DE SERVIÇOS - LITORAL NORTE         1\n",
       "19  CIÊNCIAS BIOLÓGICAS - LICENCIATURA - ENSINO A ...         3\n",
       "29           DESENVOLVIMENTO REGIONAL - LITORAL NORTE         3\n",
       "18                 CIÊNCIAS BIOLÓGICAS - LICENCIATURA         9\n",
       "86                           PUBLICIDADE E PROPAGANDA        12\n",
       "10         BIBLIOTECONOMIA - ENSINO A DISTÂNCIA - EAD        16\n",
       "73              MATEMÁTICA - ENSINO A DISTÂNCIA - EAD        18\n",
       "7            ARTES VISUAIS - ENSINO A DISTÂNCIA - EAD        24"
      ]
     },
     "execution_count": 47,
     "metadata": {},
     "output_type": "execute_result"
    }
   ],
   "source": [
    "top10 = df_evasao[['NomeCurso','Evadidos']].sort_values('Evadidos').head(10)\n",
    "top10"
   ]
  },
  {
   "cell_type": "code",
   "execution_count": 73,
   "metadata": {},
   "outputs": [
    {
     "name": "stdout",
     "output_type": "stream",
     "text": [
      "2020\n"
     ]
    }
   ],
   "source": [
    "media = matriculados_por_ano.mean()\n",
    "media\n",
    "\n"
   ]
  },
  {
   "cell_type": "code",
   "execution_count": null,
   "metadata": {},
   "outputs": [],
   "source": []
  }
 ],
 "metadata": {
  "kernelspec": {
   "display_name": "Python 3 (ipykernel)",
   "language": "python",
   "name": "python3"
  },
  "language_info": {
   "codemirror_mode": {
    "name": "ipython",
    "version": 3
   },
   "file_extension": ".py",
   "mimetype": "text/x-python",
   "name": "python",
   "nbconvert_exporter": "python",
   "pygments_lexer": "ipython3",
   "version": "3.11.0"
  },
  "vscode": {
   "interpreter": {
    "hash": "2773a85c416ee19cb0a751ff4fa0640b3a44b2a0d682b78c3af6b1db7b308068"
   }
  }
 },
 "nbformat": 4,
 "nbformat_minor": 2
}
